{
 "cells": [
  {
   "cell_type": "markdown",
   "metadata": {},
   "source": [
    "https://dacon.io/competitions/official/236230/talkboard"
   ]
  },
  {
   "cell_type": "code",
   "execution_count": 5,
   "metadata": {},
   "outputs": [],
   "source": [
    "import numpy as np\n",
    "import pandas as pd"
   ]
  },
  {
   "cell_type": "code",
   "execution_count": 6,
   "metadata": {},
   "outputs": [],
   "source": [
    "df = pd.read_csv('income/open/train.csv')"
   ]
  },
  {
   "cell_type": "markdown",
   "metadata": {},
   "source": [
    "20000 rows × 23 columns"
   ]
  },
  {
   "cell_type": "code",
   "execution_count": 7,
   "metadata": {},
   "outputs": [
    {
     "data": {
      "text/html": [
       "<div>\n",
       "<style scoped>\n",
       "    .dataframe tbody tr th:only-of-type {\n",
       "        vertical-align: middle;\n",
       "    }\n",
       "\n",
       "    .dataframe tbody tr th {\n",
       "        vertical-align: top;\n",
       "    }\n",
       "\n",
       "    .dataframe thead th {\n",
       "        text-align: right;\n",
       "    }\n",
       "</style>\n",
       "<table border=\"1\" class=\"dataframe\">\n",
       "  <thead>\n",
       "    <tr style=\"text-align: right;\">\n",
       "      <th></th>\n",
       "      <th>Age</th>\n",
       "      <th>Working_Week (Yearly)</th>\n",
       "      <th>Gains</th>\n",
       "      <th>Losses</th>\n",
       "      <th>Dividends</th>\n",
       "      <th>Income</th>\n",
       "    </tr>\n",
       "  </thead>\n",
       "  <tbody>\n",
       "    <tr>\n",
       "      <th>count</th>\n",
       "      <td>20000.000000</td>\n",
       "      <td>20000.000000</td>\n",
       "      <td>20000.000000</td>\n",
       "      <td>20000.000000</td>\n",
       "      <td>20000.000000</td>\n",
       "      <td>20000.000000</td>\n",
       "    </tr>\n",
       "    <tr>\n",
       "      <th>mean</th>\n",
       "      <td>35.632500</td>\n",
       "      <td>34.943050</td>\n",
       "      <td>383.129500</td>\n",
       "      <td>40.202150</td>\n",
       "      <td>123.451450</td>\n",
       "      <td>554.565250</td>\n",
       "    </tr>\n",
       "    <tr>\n",
       "      <th>std</th>\n",
       "      <td>17.994414</td>\n",
       "      <td>22.254592</td>\n",
       "      <td>4144.247487</td>\n",
       "      <td>279.182677</td>\n",
       "      <td>1206.949429</td>\n",
       "      <td>701.553155</td>\n",
       "    </tr>\n",
       "    <tr>\n",
       "      <th>min</th>\n",
       "      <td>0.000000</td>\n",
       "      <td>0.000000</td>\n",
       "      <td>0.000000</td>\n",
       "      <td>0.000000</td>\n",
       "      <td>0.000000</td>\n",
       "      <td>0.000000</td>\n",
       "    </tr>\n",
       "    <tr>\n",
       "      <th>25%</th>\n",
       "      <td>23.000000</td>\n",
       "      <td>7.000000</td>\n",
       "      <td>0.000000</td>\n",
       "      <td>0.000000</td>\n",
       "      <td>0.000000</td>\n",
       "      <td>0.000000</td>\n",
       "    </tr>\n",
       "    <tr>\n",
       "      <th>50%</th>\n",
       "      <td>34.000000</td>\n",
       "      <td>52.000000</td>\n",
       "      <td>0.000000</td>\n",
       "      <td>0.000000</td>\n",
       "      <td>0.000000</td>\n",
       "      <td>500.000000</td>\n",
       "    </tr>\n",
       "    <tr>\n",
       "      <th>75%</th>\n",
       "      <td>47.000000</td>\n",
       "      <td>52.000000</td>\n",
       "      <td>0.000000</td>\n",
       "      <td>0.000000</td>\n",
       "      <td>0.000000</td>\n",
       "      <td>875.000000</td>\n",
       "    </tr>\n",
       "    <tr>\n",
       "      <th>max</th>\n",
       "      <td>90.000000</td>\n",
       "      <td>52.000000</td>\n",
       "      <td>99999.000000</td>\n",
       "      <td>4356.000000</td>\n",
       "      <td>45000.000000</td>\n",
       "      <td>9999.000000</td>\n",
       "    </tr>\n",
       "  </tbody>\n",
       "</table>\n",
       "</div>"
      ],
      "text/plain": [
       "                Age  Working_Week (Yearly)         Gains        Losses  \\\n",
       "count  20000.000000           20000.000000  20000.000000  20000.000000   \n",
       "mean      35.632500              34.943050    383.129500     40.202150   \n",
       "std       17.994414              22.254592   4144.247487    279.182677   \n",
       "min        0.000000               0.000000      0.000000      0.000000   \n",
       "25%       23.000000               7.000000      0.000000      0.000000   \n",
       "50%       34.000000              52.000000      0.000000      0.000000   \n",
       "75%       47.000000              52.000000      0.000000      0.000000   \n",
       "max       90.000000              52.000000  99999.000000   4356.000000   \n",
       "\n",
       "          Dividends        Income  \n",
       "count  20000.000000  20000.000000  \n",
       "mean     123.451450    554.565250  \n",
       "std     1206.949429    701.553155  \n",
       "min        0.000000      0.000000  \n",
       "25%        0.000000      0.000000  \n",
       "50%        0.000000    500.000000  \n",
       "75%        0.000000    875.000000  \n",
       "max    45000.000000   9999.000000  "
      ]
     },
     "execution_count": 7,
     "metadata": {},
     "output_type": "execute_result"
    }
   ],
   "source": [
    "# 수치형 컬럼 5개 (income 제외)\n",
    "df.describe()"
   ]
  },
  {
   "cell_type": "code",
   "execution_count": 13,
   "metadata": {},
   "outputs": [
    {
     "data": {
      "text/plain": [
       "Index(['ID', 'Age', 'Gender', 'Education_Status', 'Employment_Status',\n",
       "       'Working_Week (Yearly)', 'Industry_Status', 'Occupation_Status', 'Race',\n",
       "       'Hispanic_Origin', 'Martial_Status', 'Household_Status',\n",
       "       'Household_Summary', 'Citizenship', 'Birth_Country',\n",
       "       'Birth_Country (Father)', 'Birth_Country (Mother)', 'Tax_Status',\n",
       "       'Gains', 'Losses', 'Dividends', 'Income_Status', 'Income'],\n",
       "      dtype='object')"
      ]
     },
     "execution_count": 13,
     "metadata": {},
     "output_type": "execute_result"
    }
   ],
   "source": [
    "# 컬럼 확인\n",
    "df.columns"
   ]
  },
  {
   "cell_type": "markdown",
   "metadata": {},
   "source": [
    "['ID', \n",
    "'Age', \n",
    "'Gender' 라벨 인코딩\n",
    "'Education_Status' 단계별 범주화 ['Middle (7-8)', 'Associates degree (Vocational)', 'High graduate', 'Masters degree', 'Bachelors degree', \n",
    "                                    'High Freshman', 'Elementary (1-4)', 'College', 'Children', 'High Sophomore', 'Associates degree (Academic)', \n",
    "                                    'High Junior', 'Elementary (5-6)', 'Doctorate degree', 'Professional degree', 'High Senior', 'Kindergarten']\n",
    "\n",
    "'Employment_Status' 단계별 범주화 ['Full-Time', 'Children or Armed Forces', 'Not Working','Seeking Full-Time', 'Choice Part-Time',\n",
    "                                    'Part-Time (Usually Part-Time)', 'Part-Time (Usually Full-Time)', 'Seeking Part-Time']\n",
    "\n",
    "'Working_Week (Yearly)' 수치형\n",
    "\n",
    "'Industry_Status'\n",
    "\n",
    "'Occupation_Status'\n",
    "'Race'\n",
    "'Hispanic_Origin'\n",
    "'Martial_Status'\n",
    "'Household_Status'\n",
    "'Household_Summary'\n",
    "'Citizenship'\n",
    "'Birth_Country'\n",
    "'Birth_Country (Father)'\n",
    "'Birth_Country (Mother)'\n",
    "'Tax_Status'\n",
    "'Gains' 수치형\n",
    "'Losses' 수치형\n",
    "'Dividends' 수치형\n",
    "'Income_Status'\n",
    "'Income']"
   ]
  },
  {
   "cell_type": "code",
   "execution_count": 23,
   "metadata": {},
   "outputs": [
    {
     "data": {
      "text/plain": [
       "array(['Social Services', 'Entertainment', 'Manufacturing (Non-durable)',\n",
       "       'Retail', 'Not in universe or children', 'Construction',\n",
       "       'Hospitals', 'Manufacturing (Durable)', 'Public Administration',\n",
       "       'Education', 'Finance Insurance & Real Estate', 'Transportation',\n",
       "       'Medical (except Hospitals)', 'Wholesale',\n",
       "       'Other professional services',\n",
       "       'Personal Services (except Private Household)',\n",
       "       'Business & Repair', 'Private Household Services', 'Mining',\n",
       "       'Agriculture', 'Utilities & Sanitary', 'Communications',\n",
       "       'Forestry & Fisheries', 'Armed Forces'], dtype=object)"
      ]
     },
     "execution_count": 23,
     "metadata": {},
     "output_type": "execute_result"
    }
   ],
   "source": [
    "df['Industry_Status'].unique()"
   ]
  },
  {
   "cell_type": "code",
   "execution_count": null,
   "metadata": {},
   "outputs": [],
   "source": []
  }
 ],
 "metadata": {
  "kernelspec": {
   "display_name": "Python 3",
   "language": "python",
   "name": "python3"
  },
  "language_info": {
   "codemirror_mode": {
    "name": "ipython",
    "version": 3
   },
   "file_extension": ".py",
   "mimetype": "text/x-python",
   "name": "python",
   "nbconvert_exporter": "python",
   "pygments_lexer": "ipython3",
   "version": "3.9.0rc1"
  }
 },
 "nbformat": 4,
 "nbformat_minor": 2
}
